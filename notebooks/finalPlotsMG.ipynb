{
  "cells": [
    {
      "cell_type": "markdown",
      "metadata": {},
      "source": [
        "## Looking for correlations between data variables.\n",
        "\n",
        "| **Column Name**              | **Description**                                                                                      |\n",
        "|-------------------------------|------------------------------------------------------------------------------------------------------|\n",
        "| `total_units`                | Number of units in the property being financed (1U, 2U, 3U, 4U).                                    |\n",
        "| `income`                     | Applicant's annual income.                                                                          |\n",
        "| `credit_type`                | Applicant's type of credit (`CIB`: Credit Information Bureau, `CRIF`: CIRF Credit Bureau, `EXP`: Experian, `EQUI`: Equifax). |\n",
        "| `Credit_Score`               | Applicant's credit score.                                                                           |\n",
        "| `co-applicant_credit_type`   | Co-applicant's type of credit (`CIB`: Credit Information Bureau, `EXP`: Experian).                  |\n",
        "| `age`                        | The age of the applicant.                                                                           |\n",
        "| `submission_of_application`  | Indicates how the application was submitted (`to_inst`: to institution, `not_inst`: not to institution). |\n",
        "| `LTV`                        | Loan-to-value ratio, calculated as the loan amount divided by the property value.                   |\n",
        "| `Region`                     | Geographic region where the property is located (`North`, `South`, `Central`, `North-East`).        |\n",
        "| `Security_Type`              | Type of security associated with the loan.                                                          |\n"
      ]
    },
    {
      "cell_type": "code",
      "execution_count": 2,
      "metadata": {
        "id": "2EOt6pVpOSjo"
      },
      "outputs": [],
      "source": [
        "import numpy as np\n",
        "import pandas as pd\n",
        "import matplotlib.pyplot as plt\n",
        "import seaborn as sns"
      ]
    },
    {
      "cell_type": "code",
      "execution_count": 3,
      "metadata": {
        "colab": {
          "base_uri": "https://localhost:8080/",
          "height": 594
        },
        "id": "aFO45YmDOfWv",
        "outputId": "79586ff5-0214-40f1-8d8f-31784d93ee53"
      },
      "outputs": [],
      "source": [
        "df = pd.read_csv('../data/Loan_Default.csv')"
      ]
    },
    {
      "cell_type": "code",
      "execution_count": 4,
      "metadata": {},
      "outputs": [],
      "source": [
        "sampled_data = df.sample(frac=0.3, random_state=37)"
      ]
    }
  ],
  "metadata": {
    "colab": {
      "provenance": []
    },
    "kernelspec": {
      "display_name": ".venv",
      "language": "python",
      "name": "python3"
    },
    "language_info": {
      "codemirror_mode": {
        "name": "ipython",
        "version": 3
      },
      "file_extension": ".py",
      "mimetype": "text/x-python",
      "name": "python",
      "nbconvert_exporter": "python",
      "pygments_lexer": "ipython3",
      "version": "3.9.6"
    }
  },
  "nbformat": 4,
  "nbformat_minor": 0
}
